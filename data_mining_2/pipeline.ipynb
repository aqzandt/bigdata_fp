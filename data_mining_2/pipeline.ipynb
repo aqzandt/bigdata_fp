{
 "cells": [
  {
   "cell_type": "markdown",
   "metadata": {},
   "source": [
    "# Data Mining Lab 3 Pipeline Assignment\n",
    "\n",
    "**Medium articles** are used to disseminate knowledge and are written on a wide range of technical and non-technical topics. Users subscribe to different reading lists where reading lists represent either domains or certain topics. This naturally gives rise to a network structure where articles may belong to the same reading lists and hence are related to each other. Each article belongs to a certain topic. Automatically assigning articles to topics is very valuable for search applications. **The goal of this task is to classify articles by predicting their topics.**\n",
    "\n",
    "A dataset of medium articles along with subscription lists and topic tags is provided. The task is to classify articles into tags (i.e., topics), leveraging the network structure arising from relations using the subscription lists. Specifically, two nodes are connected if they share at least one list.\n",
    "\n",
    "**For this task you may only use the following libraries**: `numpy`, `pandas`, `matplotlib`, `networkx`, `gensim`.\n"
   ]
  },
  {
   "cell_type": "code",
   "execution_count": 66,
   "metadata": {},
   "outputs": [],
   "source": [
    "from collections import defaultdict\n",
    "from itertools import combinations\n",
    "from pathlib import Path\n",
    "\n",
    "import networkx as nx\n",
    "import pandas as pd\n",
    "import numpy as np\n",
    "from matplotlib import pyplot\n",
    "from gensim.models import Word2Vec"
   ]
  },
  {
   "cell_type": "markdown",
   "metadata": {},
   "source": [
    "## Data loading\n",
    "\n",
    "The data is provided in three files which can be found in the `data` directory:\n",
    "\n",
    "- `articles.csv`: Contains the articles along with the subscription lists and some metadata.\n",
    "- `test_data.csv`: Contains a subset of nodes (articles) along with their labels (topics) used for testing.\n",
    "- `train_data.csv`: Contains the remaining nodes (articles) along with their labels (topics).\n",
    "\n",
    "**Important**: There is no specific training data requried for this assignment, since the node embeddings (task 3) are trained on the entire graph. The nodes in `train_data.csv` must be used for the kNN classifier, i.e., the computed nearest neighbors for a test node may only be nodes from this file.\n",
    "\n",
    "Let's use `pandas` to read these files:\n"
   ]
  },
  {
   "cell_type": "code",
   "execution_count": 3,
   "metadata": {},
   "outputs": [],
   "source": [
    "articles = pd.read_csv(Path(\"data\") / \"articles.csv\")\n",
    "articles[\"node_id\"] = articles.index\n",
    "articles[\"lists\"] = articles[\"lists\"].str.split(\"; \")\n",
    "test_data = pd.read_csv(Path(\"data\") / \"test_data.csv\")\n",
    "train_data = pd.read_csv(Path(\"data\") / \"train_data.csv\")"
   ]
  },
  {
   "cell_type": "markdown",
   "metadata": {},
   "source": [
    "Note that we have assigned node IDs based on where each article is located in the file.\n",
    "\n",
    "We can now inspect the individual data frames:\n"
   ]
  },
  {
   "cell_type": "code",
   "execution_count": 4,
   "metadata": {},
   "outputs": [
    {
     "data": {
      "text/html": [
       "<div>\n",
       "<style scoped>\n",
       "    .dataframe tbody tr th:only-of-type {\n",
       "        vertical-align: middle;\n",
       "    }\n",
       "\n",
       "    .dataframe tbody tr th {\n",
       "        vertical-align: top;\n",
       "    }\n",
       "\n",
       "    .dataframe thead th {\n",
       "        text-align: right;\n",
       "    }\n",
       "</style>\n",
       "<table border=\"1\" class=\"dataframe\">\n",
       "  <thead>\n",
       "    <tr style=\"text-align: right;\">\n",
       "      <th></th>\n",
       "      <th>article</th>\n",
       "      <th>title</th>\n",
       "      <th>subtitle</th>\n",
       "      <th>author</th>\n",
       "      <th>date</th>\n",
       "      <th>lists</th>\n",
       "      <th>node_id</th>\n",
       "    </tr>\n",
       "  </thead>\n",
       "  <tbody>\n",
       "    <tr>\n",
       "      <th>0</th>\n",
       "      <td>https://medium.com/@maniakacademy/code-demo-sh...</td>\n",
       "      <td>Code/Demo Share: Palo Alto Firewall Network In...</td>\n",
       "      <td>IP is broken as a unit of Control! IDENTITY as...</td>\n",
       "      <td>Sebastian Maniak</td>\n",
       "      <td>2022-08-17</td>\n",
       "      <td>[https://medium.com/@zemmali1990/list/aws-49f6...</td>\n",
       "      <td>0</td>\n",
       "    </tr>\n",
       "    <tr>\n",
       "      <th>1</th>\n",
       "      <td>https://medium.com/towards-artificial-intellig...</td>\n",
       "      <td>Clustering using Social Graph Network</td>\n",
       "      <td>A Social Graph Network can be formed when ther...</td>\n",
       "      <td>Naveed Ahmed Janvekar</td>\n",
       "      <td>2022-01-29</td>\n",
       "      <td>[https://medium.com/@TomaszCieplak/list/graph-...</td>\n",
       "      <td>1</td>\n",
       "    </tr>\n",
       "  </tbody>\n",
       "</table>\n",
       "</div>"
      ],
      "text/plain": [
       "                                             article  \\\n",
       "0  https://medium.com/@maniakacademy/code-demo-sh...   \n",
       "1  https://medium.com/towards-artificial-intellig...   \n",
       "\n",
       "                                               title  \\\n",
       "0  Code/Demo Share: Palo Alto Firewall Network In...   \n",
       "1              Clustering using Social Graph Network   \n",
       "\n",
       "                                            subtitle                 author  \\\n",
       "0  IP is broken as a unit of Control! IDENTITY as...       Sebastian Maniak   \n",
       "1  A Social Graph Network can be formed when ther...  Naveed Ahmed Janvekar   \n",
       "\n",
       "         date                                              lists  node_id  \n",
       "0  2022-08-17  [https://medium.com/@zemmali1990/list/aws-49f6...        0  \n",
       "1  2022-01-29  [https://medium.com/@TomaszCieplak/list/graph-...        1  "
      ]
     },
     "execution_count": 4,
     "metadata": {},
     "output_type": "execute_result"
    }
   ],
   "source": [
    "articles.head(2)"
   ]
  },
  {
   "cell_type": "code",
   "execution_count": 5,
   "metadata": {},
   "outputs": [
    {
     "data": {
      "text/html": [
       "<div>\n",
       "<style scoped>\n",
       "    .dataframe tbody tr th:only-of-type {\n",
       "        vertical-align: middle;\n",
       "    }\n",
       "\n",
       "    .dataframe tbody tr th {\n",
       "        vertical-align: top;\n",
       "    }\n",
       "\n",
       "    .dataframe thead th {\n",
       "        text-align: right;\n",
       "    }\n",
       "</style>\n",
       "<table border=\"1\" class=\"dataframe\">\n",
       "  <thead>\n",
       "    <tr style=\"text-align: right;\">\n",
       "      <th></th>\n",
       "      <th>node_id</th>\n",
       "      <th>label</th>\n",
       "    </tr>\n",
       "  </thead>\n",
       "  <tbody>\n",
       "    <tr>\n",
       "      <th>0</th>\n",
       "      <td>2291</td>\n",
       "      <td>artificial-intelligence</td>\n",
       "    </tr>\n",
       "    <tr>\n",
       "      <th>1</th>\n",
       "      <td>7292</td>\n",
       "      <td>artificial-intelligence</td>\n",
       "    </tr>\n",
       "  </tbody>\n",
       "</table>\n",
       "</div>"
      ],
      "text/plain": [
       "   node_id                    label\n",
       "0     2291  artificial-intelligence\n",
       "1     7292  artificial-intelligence"
      ]
     },
     "execution_count": 5,
     "metadata": {},
     "output_type": "execute_result"
    }
   ],
   "source": [
    "test_data.head(2)"
   ]
  },
  {
   "cell_type": "markdown",
   "metadata": {},
   "source": [
    "Next, let's create our graph. We'll create one node for each article and insert an edge between two articles if they share at least one subscription list:\n"
   ]
  },
  {
   "cell_type": "code",
   "execution_count": 6,
   "metadata": {},
   "outputs": [],
   "source": [
    "medium_graph = nx.Graph()\n",
    "medium_graph.add_nodes_from(articles[\"node_id\"].to_list())\n",
    "\n",
    "list_to_nodes = defaultdict(set)\n",
    "for _, row in articles[[\"node_id\", \"lists\"]].iterrows():\n",
    "    for l in row[\"lists\"]:\n",
    "        list_to_nodes[l].add(row[\"node_id\"])\n",
    "\n",
    "for node_ids in list_to_nodes.values():\n",
    "    medium_graph.add_edges_from(combinations(node_ids, 2))"
   ]
  },
  {
   "cell_type": "markdown",
   "metadata": {},
   "source": [
    "## Tasks\n",
    "\n",
    "1. Familiarization: Analyze the graph. Compute and plot statistics such as the number of nodes, number of edges, number of neighbors of each node, and so on. Are there any isolated nodes (i.e., nodes that do not have a single neighbor)?\n",
    "2. Compute spectral node embeddings.\n",
    "3. Perform random walks on the graph to obtain a set of sequences of nodes. Use those sequences to compute node embeddings. Hint: You may use the Word2vec implementation of the gensim library for this task. By treating each node as a word, this method will give you node embeddings.\n",
    "4. Implement a simple k-nearest neighbor classifier: For each node (medium article) in the test set, compute its nearest neighbors (based on the similarity of node embeddings). The classifier assigns a label (i.e., a topic) based on the topics of the nearest neighbors. Specifically, the predicted topic is simply the most common topic among the nearest neighbors. Compare both sets of node embeddings in terms of performance. Which one works better?\n"
   ]
  },
  {
   "cell_type": "markdown",
   "metadata": {},
   "source": [
    "## 1. Familiarization"
   ]
  },
  {
   "cell_type": "code",
   "execution_count": 35,
   "metadata": {},
   "outputs": [
    {
     "name": "stdout",
     "output_type": "stream",
     "text": [
      "Number of nodes in the graph:  27718\n",
      "Number of edges in the graph:  2014162\n",
      "Average number of degrees per node:  72.67\n"
     ]
    },
    {
     "data": {
      "image/png": "[encoded data removed]",
      "text/plain": [
       "<Figure size 640x480 with 1 Axes>"
      ]
     },
     "metadata": {},
     "output_type": "display_data"
    },
    {
     "name": "stdout",
     "output_type": "stream",
     "text": [
      "We can see that there are a lot of isolated nodes (nodes with 0 neighbours), namely 347\n",
      "The node with the highest degree has 2452 neighbours. There are 2 nodes with many neighbours in the graph.\n"
     ]
    }
   ],
   "source": [
    "n = len(medium_graph.nodes)\n",
    "m = len(medium_graph.edges)\n",
    "print(\"Number of nodes in the graph: \", n)\n",
    "print(\"Number of edges in the graph: \", m)\n",
    "\n",
    "degree_view = medium_graph.degree\n",
    "#print(degree_view)\n",
    "degree_counts = {}\n",
    "for _, degree in degree_view:\n",
    "    if degree not in degree_counts:\n",
    "        degree_counts[degree] = 1\n",
    "    else:\n",
    "        degree_counts[degree] += 1\n",
    "#print(degree_counts)\n",
    "\n",
    "degrees = list(degree_counts.keys())\n",
    "counts = list(degree_counts.values())\n",
    "\n",
    "max_degree = max(degrees)\n",
    "\n",
    "degree_dict = dict(degree_view)\n",
    "number_of_isolated_nodes = list(degree_dict.values()).count(0)\n",
    "\n",
    "degree_list = list(degree_view)\n",
    "#print(\"degree_list\", degree_list)\n",
    "sorted_degree_list = sorted(degree_list, key=lambda x: x[1])\n",
    "\n",
    "print(\"Average number of degrees per node: \", round(m/n, 2))\n",
    "\n",
    "pyplot.bar(degrees, counts)\n",
    "pyplot.xlabel('Degree (number of neighbors)')\n",
    "pyplot.ylabel('Number of nodes')\n",
    "pyplot.title('Degree Distribution')\n",
    "pyplot.show()\n",
    "\n",
    "\n",
    "#print(\"sorted list\", sorted_degree_list)\n",
    "print(\"We can see that there are a lot of isolated nodes (nodes with 0 neighbours), namely\", number_of_isolated_nodes)\n",
    "\n",
    "\n",
    "\n",
    "print(\"The node with the highest degree has\", max_degree, \"neighbours. There are\", list(degree_dict.values()).count(max_degree), \"nodes with many neighbours in the graph.\")"
   ]
  },
  {
   "cell_type": "markdown",
   "metadata": {},
   "source": [
    "## 2. Spectral node embeddings"
   ]
  },
  {
   "cell_type": "markdown",
   "metadata": {},
   "source": [
    "The compute_spectral_embeddings function calculates the spectral embeddings for a connected graph."
   ]
  },
  {
   "cell_type": "code",
   "execution_count": 37,
   "metadata": {},
   "outputs": [],
   "source": [
    "def compute_spectral_embeddings(graph: nx.Graph, dim: int) -> np.ndarray:\n",
    "    adjacency_matrix = nx.to_numpy_array(graph, nodelist=sorted(graph.nodes))\n",
    "\n",
    "    # make sure the matrix is symmetric\n",
    "    assert (adjacency_matrix == adjacency_matrix.T).all()\n",
    "\n",
    "    degrees = np.sum(adjacency_matrix, axis=1)\n",
    "    degree_matrix = np.diag(degrees)\n",
    "\n",
    "    laplacian_matrix = degree_matrix - adjacency_matrix\n",
    "\n",
    "    eigenvalues, eigenvectors = np.linalg.eigh(laplacian_matrix)\n",
    "\n",
    "    dim_eigenvectors = eigenvectors[:, :dim]\n",
    "    result = dim_eigenvectors\n",
    "\n",
    "    return result"
   ]
  },
  {
   "cell_type": "markdown",
   "metadata": {},
   "source": [
    "Let's split the graph into all the connected components, and call the compute_spectral_embedding function for each component."
   ]
  },
  {
   "cell_type": "code",
   "execution_count": 39,
   "metadata": {},
   "outputs": [],
   "source": [
    "embeddings = []\n",
    "dim = 80\n",
    "for component in nx.connected_components(medium_graph):\n",
    "    subgraph = medium_graph.subgraph(component)\n",
    "    embeddings.append(compute_spectral_embeddings(subgraph, dim))"
   ]
  },
  {
   "cell_type": "code",
   "execution_count": 44,
   "metadata": {},
   "outputs": [
    {
     "name": "stdout",
     "output_type": "stream",
     "text": [
      "760\n",
      "(24392, 80)\n",
      "(24392, 80)\n",
      "(2, 2)\n",
      "(2, 2)\n",
      "(34, 34)\n",
      "(698, 80)\n",
      "(2, 2)\n",
      "(14, 14)\n",
      "(2, 2)\n",
      "(57, 57)\n",
      "(2, 2)\n",
      "(1, 1)\n",
      "(2, 2)\n",
      "(5, 5)\n",
      "(57, 57)\n",
      "(11, 11)\n",
      "(4, 4)\n",
      "(3, 3)\n",
      "(3, 3)\n",
      "(3, 3)\n",
      "(10, 10)\n"
     ]
    }
   ],
   "source": [
    "print(len(embeddings))\n",
    "print(embeddings[0].shape)\n",
    "for i in range(20):\n",
    "    print(embeddings[i].shape)"
   ]
  },
  {
   "cell_type": "code",
   "execution_count": 56,
   "metadata": {},
   "outputs": [
    {
     "name": "stdout",
     "output_type": "stream",
     "text": [
      "[[ 6.40289374e-03 -3.62579778e-04  8.50695370e-05 ...  6.56715996e-05\n",
      "  -2.25409821e-04 -5.03722027e-05]\n",
      " [ 6.40289374e-03 -5.77767953e-04  8.11657452e-05 ...  1.69255839e-05\n",
      "  -1.06926243e-04  7.15849070e-05]\n",
      " [ 6.40289374e-03 -5.99778130e-04  8.40876981e-05 ...  2.04945885e-05\n",
      "  -1.63885707e-04  8.33310781e-05]\n",
      " ...\n",
      " [ 6.40289374e-03 -5.82750973e-04  8.17655614e-05 ...  2.15472701e-05\n",
      "  -1.45042205e-04  7.26061071e-05]\n",
      " [ 6.40289374e-03 -5.97821702e-04  8.40528430e-05 ...  5.01400685e-06\n",
      "  -1.46446113e-04  8.87766167e-05]\n",
      " [ 6.40289374e-03 -4.97113097e-04  8.96498173e-05 ...  9.19653568e-05\n",
      "  -3.21749311e-04 -4.72274708e-05]]\n"
     ]
    }
   ],
   "source": [
    "print(embeddings[0])"
   ]
  },
  {
   "cell_type": "markdown",
   "metadata": {},
   "source": [
    "We saw earlier that there are a lot of isolated nodes. The following diagram shows us the sizes of all the components. For better visualization purposes we got rid of the 2 largest components. These components had 24392 and 698 nodes."
   ]
  },
  {
   "cell_type": "code",
   "execution_count": 55,
   "metadata": {},
   "outputs": [
    {
     "name": "stdout",
     "output_type": "stream",
     "text": [
      "198\n"
     ]
    },
    {
     "data": {
      "image/png": "[encoded data removed]",
      "text/plain": [
       "<Figure size 640x480 with 1 Axes>"
      ]
     },
     "metadata": {},
     "output_type": "display_data"
    }
   ],
   "source": [
    "component_count = {}\n",
    "maxi = 0\n",
    "for emb in embeddings:\n",
    "    size = emb.shape[0]\n",
    "    if(size > 697):\n",
    "        continue\n",
    "    maxi = max(maxi, size)\n",
    "    if size not in component_count:\n",
    "        component_count[size] = 1\n",
    "    else:\n",
    "        component_count[size] += 1\n",
    "#print(degree_counts)\n",
    "\n",
    "print(maxi)\n",
    "\n",
    "component_size = list(component_count.keys())\n",
    "counts = list(component_count.values())\n",
    "\n",
    "pyplot.bar(component_size, counts)\n",
    "pyplot.xlabel('Size (Number of nodes in the component)')\n",
    "pyplot.ylabel('Number of components')\n",
    "pyplot.title('Component\\'s sizes')\n",
    "pyplot.show()"
   ]
  },
  {
   "cell_type": "markdown",
   "metadata": {},
   "source": [
    "## 2. Random walks"
   ]
  },
  {
   "cell_type": "markdown",
   "metadata": {},
   "source": [
    "When we create the random walks it is important that we handle the isolated nodes as well because our graph is disconnected. To handle them we will always make them walk back to themselves, this is a good idea here because isolated points are only similar to themselves. "
   ]
  },
  {
   "cell_type": "code",
   "execution_count": 60,
   "metadata": {},
   "outputs": [],
   "source": [
    "import random\n",
    "\n",
    "def random_walks(graph: nx.Graph, num_walks: int, walk_length: int) -> np.ndarray:\n",
    "    \n",
    "    result = []\n",
    "\n",
    "    for node in graph.nodes:\n",
    "        for _ in range(num_walks):\n",
    "            walk = [node] \n",
    "            current_node = node\n",
    "            for _ in range(walk_length - 1):\n",
    "                neighbors = list(graph.neighbors(current_node))\n",
    "                if(len(neighbors) == 0):\n",
    "                    walk.append(current_node)\n",
    "                    continue\n",
    "                current_node = random.choice(neighbors)\n",
    "                walk.append(current_node)\n",
    "            result.append(walk)\n",
    "\n",
    "    return np.array(result)"
   ]
  },
  {
   "cell_type": "code",
   "execution_count": 61,
   "metadata": {},
   "outputs": [],
   "source": [
    "num_walks = 10\n",
    "walk_length = 20\n",
    "\n",
    "walks = random_walks(medium_graph, num_walks, walk_length)"
   ]
  },
  {
   "cell_type": "code",
   "execution_count": 64,
   "metadata": {},
   "outputs": [
    {
     "name": "stdout",
     "output_type": "stream",
     "text": [
      "[    0 17751  5933 24625  2794  3920 10926 15844 22801 18639 20679  2532\n",
      "  4453 14065 26035   814 13048  6956  6568 13786]\n",
      "[    1  6929 17254  6438 10859  3075 27508 19692 16534 14906 22178  7607\n",
      "  6564 11595  6059  2275  2400 19328   132 12106]\n",
      "[    2  4544 22377  9842  6873 11570 16142 10165  9537  4585  8982 25769\n",
      " 24520  8432  8159 26472  3360  1376 12708  8954]\n",
      "[    3 14570 11622 23332  9614  5923  4059  8751 15544 21787 11535  2352\n",
      "  4851  9979 11236 12012 10234 25001  4941 27642]\n",
      "[    4 21496  8559  6155 13938 18722 23408 23265 14044 11595 22764  6670\n",
      " 11308 17935  2677 11416 10767  1971 25737 15873]\n",
      "[    5  4770  6816 11571 17490 20426  1115 16956  5341   991  6717 12492\n",
      "   577 18087  1750  4521 19937 17776 21826  6204]\n",
      "[    6 17525 26914 25490 11092  2407  9086  1297 24585 27667 16791 15701\n",
      "  2253 10477 19872 21938  5925 13576 11662 12533]\n",
      "[    7 20900 24515 18244 18920   340  6521 18922 25477  9778  6083 10115\n",
      "  8459  7536 24544 16046 13065 19946 10923  2585]\n",
      "[    8  9213 27684  4980  7033 26546 12559  2381 13860 21206 14927 19303\n",
      " 14927  9124  7644 11882  7839 25131 14927  7506]\n",
      "[    9  4326  4393 15653  8044 11432     9 11277 14712 10445 27156  3499\n",
      " 26740 12005 20840 16767 13906 16477 24540  1045]\n"
     ]
    }
   ],
   "source": [
    "for i in range(10):\n",
    "    print(walks[i * 10])"
   ]
  },
  {
   "cell_type": "markdown",
   "metadata": {},
   "source": [
    "Now let's use this function to compute node embeddings. "
   ]
  },
  {
   "cell_type": "code",
   "execution_count": 67,
   "metadata": {},
   "outputs": [],
   "source": [
    "def compute_node_embeddings(graph: nx.Graph, num_walks: int, walk_length: int, embedding_dim: int) -> Word2Vec:\n",
    "    \n",
    "    walks = random_walks(graph, num_walks, walk_length)\n",
    "    \n",
    "    # Convert node IDs to strings (Word2Vec expects strings)\n",
    "    walks = [[str(node) for node in walk] for walk in walks]\n",
    "    \n",
    "    # Train Word2Vec model\n",
    "    model = Word2Vec(\n",
    "        sentences=walks,\n",
    "        vector_size=embedding_dim,\n",
    "        window=5,  # Context window size\n",
    "        min_count=1,  # Minimum frequency for a node to be considered\n",
    "        sg=1,  # Use Skip-Gram (sg=1), CBOW (sg=0)\n",
    "        workers=4,  # Number of parallel threads\n",
    "        epochs=10  # Number of training epochs\n",
    "    )\n",
    "    \n",
    "    return model"
   ]
  },
  {
   "cell_type": "code",
   "execution_count": 69,
   "metadata": {},
   "outputs": [],
   "source": [
    "num_walks = 10\n",
    "walk_length = 20\n",
    "embedding_dim = 100\n",
    "\n",
    "node2vec_model = compute_node_embeddings(medium_graph, num_walks, walk_length, embedding_dim)\n"
   ]
  },
  {
   "cell_type": "code",
   "execution_count": 72,
   "metadata": {},
   "outputs": [
    {
     "name": "stdout",
     "output_type": "stream",
     "text": [
      "Embedding for node 0: [ 0.720558    0.06132406  0.82884246 -0.02702138 -0.9071063  -0.1591465\n",
      "  0.24873692 -0.22982225  0.11668132 -0.475037    0.5993882   0.36262864\n",
      " -0.6143764  -0.8156927  -0.49240956  0.01359655  0.23887137  0.18830572\n",
      "  0.14841413  1.1874446  -0.5297572  -0.17677344  0.26196072  0.39546108\n",
      " -0.17553087 -0.6079041   0.9104196   0.5858359   0.21305752 -0.31291106\n",
      " -0.1700227   0.04389351 -0.4605348  -0.76104677 -0.18900801 -0.20929924\n",
      " -0.20290558 -0.0047121   0.7047933  -0.31758094  0.01483754 -0.21472493\n",
      " -0.3091049   0.47362423  0.11125015 -0.38476926 -0.5637623  -0.03096904\n",
      "  0.5922336   0.26220468 -0.58955085  0.44977775  0.16743231 -0.14689639\n",
      " -0.04507628  0.64834255 -0.30490515 -0.08045828  1.3372009  -0.32930836\n",
      " -0.17708847 -0.23156866  0.3332721  -0.28626457  0.28912255  0.6859924\n",
      "  0.22341171  0.41567075  0.41284102 -0.22365235  0.0521722  -0.54026324\n",
      "  0.5631951  -0.14083795 -0.8307308   0.24454671 -0.30735475  0.09208219\n",
      " -0.02736627  0.12456422 -0.1012905  -0.26908165 -0.36963636 -0.21727875\n",
      "  0.18734396  0.02482135 -0.16963828  0.14789042 -0.58452886 -0.06185621\n",
      "  0.14930797  0.05266107 -0.8959239  -0.08654594 -0.32335612 -0.9019953\n",
      " -0.06311664  0.50643337  0.5960661   0.18070406]\n"
     ]
    }
   ],
   "source": [
    "node_id = \"0\"  # Node IDs are strings in the Word2Vec model\n",
    "embedding = node2vec_model.wv[node_id]\n",
    "print(f\"Embedding for node {node_id}: {embedding}\")"
   ]
  },
  {
   "cell_type": "code",
   "execution_count": null,
   "metadata": {},
   "outputs": [],
   "source": []
  }
 ],
 "metadata": {
  "kernelspec": {
   "display_name": "Python 3",
   "language": "python",
   "name": "python3"
  },
  "language_info": {
   "codemirror_mode": {
    "name": "ipython",
    "version": 3
   },
   "file_extension": ".py",
   "mimetype": "text/x-python",
   "name": "python",
   "nbconvert_exporter": "python",
   "pygments_lexer": "ipython3",
   "version": "3.12.1"
  }
 },
 "nbformat": 4,
 "nbformat_minor": 4
}
