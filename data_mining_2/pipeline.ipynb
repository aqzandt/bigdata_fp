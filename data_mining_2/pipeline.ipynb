{
 "cells": [
  {
   "cell_type": "markdown",
   "metadata": {},
   "source": [
    "# Data Mining Lab 3 Pipeline Assignment\n",
    "\n",
    "**Medium articles** are used to disseminate knowledge and are written on a wide range of technical and non-technical topics. Users subscribe to different reading lists where reading lists represent either domains or certain topics. This naturally gives rise to a network structure where articles may belong to the same reading lists and hence are related to each other. Each article belongs to a certain topic. Automatically assigning articles to topics is very valuable for search applications. **The goal of this task is to classify articles by predicting their topics.**\n",
    "\n",
    "A dataset of medium articles along with subscription lists and topic tags is provided. The task is to classify articles into tags (i.e., topics), leveraging the network structure arising from relations using the subscription lists. Specifically, two nodes are connected if they share at least one list.\n",
    "\n",
    "**For this task you may only use the following libraries**: `numpy`, `pandas`, `matplotlib`, `networkx`, `gensim`.\n"
   ]
  },
  {
   "cell_type": "code",
   "execution_count": 1,
   "metadata": {},
   "outputs": [],
   "source": [
    "from collections import defaultdict\n",
    "from itertools import combinations\n",
    "from pathlib import Path\n",
    "\n",
    "import networkx as nx\n",
    "import pandas as pd\n",
    "import numpy as np\n",
    "from matplotlib import pyplot\n",
    "from gensim.models import Word2Vec"
   ]
  },
  {
   "cell_type": "markdown",
   "metadata": {},
   "source": [
    "## Data loading\n",
    "\n",
    "The data is provided in three files which can be found in the `data` directory:\n",
    "\n",
    "- `articles.csv`: Contains the articles along with the subscription lists and some metadata.\n",
    "- `test_data.csv`: Contains a subset of nodes (articles) along with their labels (topics) used for testing.\n",
    "- `train_data.csv`: Contains the remaining nodes (articles) along with their labels (topics).\n",
    "\n",
    "**Important**: There is no specific training data requried for this assignment, since the node embeddings (task 3) are trained on the entire graph. The nodes in `train_data.csv` must be used for the kNN classifier, i.e., the computed nearest neighbors for a test node may only be nodes from this file.\n",
    "\n",
    "Let's use `pandas` to read these files:\n"
   ]
  },
  {
   "cell_type": "code",
   "execution_count": 2,
   "metadata": {},
   "outputs": [],
   "source": [
    "articles = pd.read_csv(Path(\"data\") / \"articles.csv\")\n",
    "articles[\"node_id\"] = articles.index\n",
    "articles[\"lists\"] = articles[\"lists\"].str.split(\"; \")\n",
    "test_data = pd.read_csv(Path(\"data\") / \"test_data.csv\")\n",
    "train_data = pd.read_csv(Path(\"data\") / \"train_data.csv\")"
   ]
  },
  {
   "cell_type": "markdown",
   "metadata": {},
   "source": [
    "Note that we have assigned node IDs based on where each article is located in the file.\n",
    "\n",
    "We can now inspect the individual data frames:\n"
   ]
  },
  {
   "cell_type": "code",
   "execution_count": 3,
   "metadata": {},
   "outputs": [
    {
     "data": {
      "text/html": [
       "<div>\n",
       "<style scoped>\n",
       "    .dataframe tbody tr th:only-of-type {\n",
       "        vertical-align: middle;\n",
       "    }\n",
       "\n",
       "    .dataframe tbody tr th {\n",
       "        vertical-align: top;\n",
       "    }\n",
       "\n",
       "    .dataframe thead th {\n",
       "        text-align: right;\n",
       "    }\n",
       "</style>\n",
       "<table border=\"1\" class=\"dataframe\">\n",
       "  <thead>\n",
       "    <tr style=\"text-align: right;\">\n",
       "      <th></th>\n",
       "      <th>article</th>\n",
       "      <th>title</th>\n",
       "      <th>subtitle</th>\n",
       "      <th>author</th>\n",
       "      <th>date</th>\n",
       "      <th>lists</th>\n",
       "      <th>node_id</th>\n",
       "    </tr>\n",
       "  </thead>\n",
       "  <tbody>\n",
       "    <tr>\n",
       "      <th>0</th>\n",
       "      <td>https://medium.com/@maniakacademy/code-demo-sh...</td>\n",
       "      <td>Code/Demo Share: Palo Alto Firewall Network In...</td>\n",
       "      <td>IP is broken as a unit of Control! IDENTITY as...</td>\n",
       "      <td>Sebastian Maniak</td>\n",
       "      <td>2022-08-17</td>\n",
       "      <td>[https://medium.com/@zemmali1990/list/aws-49f6...</td>\n",
       "      <td>0</td>\n",
       "    </tr>\n",
       "    <tr>\n",
       "      <th>1</th>\n",
       "      <td>https://medium.com/towards-artificial-intellig...</td>\n",
       "      <td>Clustering using Social Graph Network</td>\n",
       "      <td>A Social Graph Network can be formed when ther...</td>\n",
       "      <td>Naveed Ahmed Janvekar</td>\n",
       "      <td>2022-01-29</td>\n",
       "      <td>[https://medium.com/@TomaszCieplak/list/graph-...</td>\n",
       "      <td>1</td>\n",
       "    </tr>\n",
       "  </tbody>\n",
       "</table>\n",
       "</div>"
      ],
      "text/plain": [
       "                                             article  \\\n",
       "0  https://medium.com/@maniakacademy/code-demo-sh...   \n",
       "1  https://medium.com/towards-artificial-intellig...   \n",
       "\n",
       "                                               title  \\\n",
       "0  Code/Demo Share: Palo Alto Firewall Network In...   \n",
       "1              Clustering using Social Graph Network   \n",
       "\n",
       "                                            subtitle                 author  \\\n",
       "0  IP is broken as a unit of Control! IDENTITY as...       Sebastian Maniak   \n",
       "1  A Social Graph Network can be formed when ther...  Naveed Ahmed Janvekar   \n",
       "\n",
       "         date                                              lists  node_id  \n",
       "0  2022-08-17  [https://medium.com/@zemmali1990/list/aws-49f6...        0  \n",
       "1  2022-01-29  [https://medium.com/@TomaszCieplak/list/graph-...        1  "
      ]
     },
     "execution_count": 3,
     "metadata": {},
     "output_type": "execute_result"
    }
   ],
   "source": [
    "articles.head(2)"
   ]
  },
  {
   "cell_type": "code",
   "execution_count": 4,
   "metadata": {},
   "outputs": [
    {
     "data": {
      "text/html": [
       "<div>\n",
       "<style scoped>\n",
       "    .dataframe tbody tr th:only-of-type {\n",
       "        vertical-align: middle;\n",
       "    }\n",
       "\n",
       "    .dataframe tbody tr th {\n",
       "        vertical-align: top;\n",
       "    }\n",
       "\n",
       "    .dataframe thead th {\n",
       "        text-align: right;\n",
       "    }\n",
       "</style>\n",
       "<table border=\"1\" class=\"dataframe\">\n",
       "  <thead>\n",
       "    <tr style=\"text-align: right;\">\n",
       "      <th></th>\n",
       "      <th>node_id</th>\n",
       "      <th>label</th>\n",
       "    </tr>\n",
       "  </thead>\n",
       "  <tbody>\n",
       "    <tr>\n",
       "      <th>0</th>\n",
       "      <td>2291</td>\n",
       "      <td>artificial-intelligence</td>\n",
       "    </tr>\n",
       "    <tr>\n",
       "      <th>1</th>\n",
       "      <td>7292</td>\n",
       "      <td>artificial-intelligence</td>\n",
       "    </tr>\n",
       "  </tbody>\n",
       "</table>\n",
       "</div>"
      ],
      "text/plain": [
       "   node_id                    label\n",
       "0     2291  artificial-intelligence\n",
       "1     7292  artificial-intelligence"
      ]
     },
     "execution_count": 4,
     "metadata": {},
     "output_type": "execute_result"
    }
   ],
   "source": [
    "test_data.head(2)"
   ]
  },
  {
   "cell_type": "markdown",
   "metadata": {},
   "source": [
    "Next, let's create our graph. We'll create one node for each article and insert an edge between two articles if they share at least one subscription list:\n"
   ]
  },
  {
   "cell_type": "code",
   "execution_count": 5,
   "metadata": {},
   "outputs": [],
   "source": [
    "medium_graph = nx.Graph()\n",
    "medium_graph.add_nodes_from(articles[\"node_id\"].to_list())\n",
    "\n",
    "list_to_nodes = defaultdict(set)\n",
    "for _, row in articles[[\"node_id\", \"lists\"]].iterrows():\n",
    "    for l in row[\"lists\"]:\n",
    "        list_to_nodes[l].add(row[\"node_id\"])\n",
    "\n",
    "for node_ids in list_to_nodes.values():\n",
    "    medium_graph.add_edges_from(combinations(node_ids, 2))"
   ]
  },
  {
   "cell_type": "markdown",
   "metadata": {},
   "source": [
    "## Tasks\n",
    "\n",
    "1. Familiarization: Analyze the graph. Compute and plot statistics such as the number of nodes, number of edges, number of neighbors of each node, and so on. Are there any isolated nodes (i.e., nodes that do not have a single neighbor)?\n",
    "2. Compute spectral node embeddings.\n",
    "3. Perform random walks on the graph to obtain a set of sequences of nodes. Use those sequences to compute node embeddings. Hint: You may use the Word2vec implementation of the gensim library for this task. By treating each node as a word, this method will give you node embeddings.\n",
    "4. Implement a simple k-nearest neighbor classifier: For each node (medium article) in the test set, compute its nearest neighbors (based on the similarity of node embeddings). The classifier assigns a label (i.e., a topic) based on the topics of the nearest neighbors. Specifically, the predicted topic is simply the most common topic among the nearest neighbors. Compare both sets of node embeddings in terms of performance. Which one works better?\n"
   ]
  },
  {
   "cell_type": "markdown",
   "metadata": {},
   "source": [
    "## 1. Familiarization"
   ]
  },
  {
   "cell_type": "code",
   "execution_count": 6,
   "metadata": {},
   "outputs": [
    {
     "name": "stdout",
     "output_type": "stream",
     "text": [
      "Number of nodes in the graph:  27718\n",
      "Number of edges in the graph:  2014162\n",
      "Average number of degrees per node:  72.67\n"
     ]
    },
    {
     "data": {
      "image/png": "[encoded data removed]",
      "text/plain": [
       "<Figure size 640x480 with 1 Axes>"
      ]
     },
     "metadata": {},
     "output_type": "display_data"
    },
    {
     "name": "stdout",
     "output_type": "stream",
     "text": [
      "We can see that there are a lot of isolated nodes (nodes with 0 neighbours), namely 347\n",
      "The node with the highest degree has 2452 neighbours. There are 2 nodes with many neighbours in the graph.\n"
     ]
    }
   ],
   "source": [
    "n = len(medium_graph.nodes)\n",
    "m = len(medium_graph.edges)\n",
    "print(\"Number of nodes in the graph: \", n)\n",
    "print(\"Number of edges in the graph: \", m)\n",
    "\n",
    "degree_view = medium_graph.degree\n",
    "#print(degree_view)\n",
    "degree_counts = {}\n",
    "for _, degree in degree_view:\n",
    "    if degree not in degree_counts:\n",
    "        degree_counts[degree] = 1\n",
    "    else:\n",
    "        degree_counts[degree] += 1\n",
    "#print(degree_counts)\n",
    "\n",
    "degrees = list(degree_counts.keys())\n",
    "counts = list(degree_counts.values())\n",
    "\n",
    "max_degree = max(degrees)\n",
    "\n",
    "degree_dict = dict(degree_view)\n",
    "number_of_isolated_nodes = list(degree_dict.values()).count(0)\n",
    "\n",
    "degree_list = list(degree_view)\n",
    "#print(\"degree_list\", degree_list)\n",
    "sorted_degree_list = sorted(degree_list, key=lambda x: x[1])\n",
    "\n",
    "print(\"Average number of degrees per node: \", round(m/n, 2))\n",
    "\n",
    "pyplot.bar(degrees, counts)\n",
    "pyplot.xlabel('Degree (number of neighbors)')\n",
    "pyplot.ylabel('Number of nodes')\n",
    "pyplot.title('Degree Distribution')\n",
    "pyplot.show()\n",
    "\n",
    "\n",
    "#print(\"sorted list\", sorted_degree_list)\n",
    "print(\"We can see that there are a lot of isolated nodes (nodes with 0 neighbours), namely\", number_of_isolated_nodes)\n",
    "\n",
    "\n",
    "\n",
    "print(\"The node with the highest degree has\", max_degree, \"neighbours. There are\", list(degree_dict.values()).count(max_degree), \"nodes with many neighbours in the graph.\")"
   ]
  },
  {
   "cell_type": "markdown",
   "metadata": {},
   "source": [
    "## 2. Spectral node embeddings"
   ]
  },
  {
   "cell_type": "markdown",
   "metadata": {},
   "source": [
    "The compute_spectral_embeddings function calculates the spectral embeddings for a connected graph. One thing to note is that sometimes the embedding of a node will have less dimensions than there are eigenvectors. This will cause the shape of the embedding to be smaller than other embeddings. We address this later by padding the embedding with 0's."
   ]
  },
  {
   "cell_type": "code",
   "execution_count": 7,
   "metadata": {},
   "outputs": [],
   "source": [
    "def compute_spectral_embeddings(graph: nx.Graph, dim: int, out_eigenvalues=None) -> np.ndarray:\n",
    "    adjacency_matrix = nx.to_numpy_array(graph, nodelist=sorted(graph.nodes))\n",
    "\n",
    "    degrees = np.sum(adjacency_matrix, axis=1)\n",
    "    degree_matrix = np.diag(degrees)\n",
    "\n",
    "    laplacian_matrix = degree_matrix - adjacency_matrix\n",
    "\n",
    "    eigenvalues, eigenvectors = np.linalg.eigh(laplacian_matrix)\n",
    "\n",
    "    if (out_eigenvalues is not None): out_eigenvalues.append(eigenvalues)\n",
    "    dim_eigenvectors = eigenvectors[:, :dim]\n",
    "    result = dim_eigenvectors\n",
    "\n",
    "    return result"
   ]
  },
  {
   "cell_type": "markdown",
   "metadata": {},
   "source": [
    "Looking at the eigenvalues gives us valuable information on the embeddings, so we add an optional parameter to store the output of eigenvalues as well."
   ]
  },
  {
   "cell_type": "markdown",
   "metadata": {},
   "source": [
    "Let's split the graph into all the connected components, and call the compute_spectral_embedding function for each component."
   ]
  },
  {
   "cell_type": "code",
   "execution_count": 8,
   "metadata": {},
   "outputs": [],
   "source": [
    "spectral_embeddings = []\n",
    "dim = 80\n",
    "for component in nx.connected_components(medium_graph):\n",
    "    subgraph = medium_graph.subgraph(component)\n",
    "    emb = compute_spectral_embeddings(subgraph, dim)\n",
    "    \n",
    "    if emb.shape[1] < dim: # Pad with zeros if eigenvectors < dim\n",
    "        padding = np.zeros((emb.shape[0], dim - emb.shape[1]))\n",
    "        emb = np.hstack((emb, padding))\n",
    "\n",
    "    spectral_embeddings.append(emb)"
   ]
  },
  {
   "cell_type": "code",
   "execution_count": 9,
   "metadata": {},
   "outputs": [
    {
     "ename": "MemoryError",
     "evalue": "Unable to allocate 5.72 GiB for an array with shape (27718, 27718) and data type float64",
     "output_type": "error",
     "traceback": [
      "\u001b[1;31m---------------------------------------------------------------------------\u001b[0m",
      "\u001b[1;31mMemoryError\u001b[0m                               Traceback (most recent call last)",
      "Cell \u001b[1;32mIn[9], line 2\u001b[0m\n\u001b[0;32m      1\u001b[0m dim \u001b[38;5;241m=\u001b[39m \u001b[38;5;241m80\u001b[39m\n\u001b[1;32m----> 2\u001b[0m spectral_embedding \u001b[38;5;241m=\u001b[39m \u001b[43mcompute_spectral_embeddings\u001b[49m\u001b[43m(\u001b[49m\u001b[43mmedium_graph\u001b[49m\u001b[43m,\u001b[49m\u001b[43m \u001b[49m\u001b[43mdim\u001b[49m\u001b[43m)\u001b[49m\n",
      "Cell \u001b[1;32mIn[7], line 9\u001b[0m, in \u001b[0;36mcompute_spectral_embeddings\u001b[1;34m(graph, dim, out_eigenvalues)\u001b[0m\n\u001b[0;32m      5\u001b[0m degree_matrix \u001b[38;5;241m=\u001b[39m np\u001b[38;5;241m.\u001b[39mdiag(degrees)\n\u001b[0;32m      7\u001b[0m laplacian_matrix \u001b[38;5;241m=\u001b[39m degree_matrix \u001b[38;5;241m-\u001b[39m adjacency_matrix\n\u001b[1;32m----> 9\u001b[0m eigenvalues, eigenvectors \u001b[38;5;241m=\u001b[39m \u001b[43mnp\u001b[49m\u001b[38;5;241;43m.\u001b[39;49m\u001b[43mlinalg\u001b[49m\u001b[38;5;241;43m.\u001b[39;49m\u001b[43meigh\u001b[49m\u001b[43m(\u001b[49m\u001b[43mlaplacian_matrix\u001b[49m\u001b[43m)\u001b[49m\n\u001b[0;32m     11\u001b[0m \u001b[38;5;28;01mif\u001b[39;00m (out_eigenvalues \u001b[38;5;129;01mis\u001b[39;00m \u001b[38;5;129;01mnot\u001b[39;00m \u001b[38;5;28;01mNone\u001b[39;00m): out_eigenvalues\u001b[38;5;241m.\u001b[39mappend(eigenvalues)\n\u001b[0;32m     12\u001b[0m dim_eigenvectors \u001b[38;5;241m=\u001b[39m eigenvectors[:, :dim]\n",
      "File \u001b[1;32m~\\AppData\\Roaming\\Python\\Python312\\site-packages\\numpy\\linalg\\linalg.py:1487\u001b[0m, in \u001b[0;36meigh\u001b[1;34m(a, UPLO)\u001b[0m\n\u001b[0;32m   1484\u001b[0m     gufunc \u001b[38;5;241m=\u001b[39m _umath_linalg\u001b[38;5;241m.\u001b[39meigh_up\n\u001b[0;32m   1486\u001b[0m signature \u001b[38;5;241m=\u001b[39m \u001b[38;5;124m'\u001b[39m\u001b[38;5;124mD->dD\u001b[39m\u001b[38;5;124m'\u001b[39m \u001b[38;5;28;01mif\u001b[39;00m isComplexType(t) \u001b[38;5;28;01melse\u001b[39;00m \u001b[38;5;124m'\u001b[39m\u001b[38;5;124md->dd\u001b[39m\u001b[38;5;124m'\u001b[39m\n\u001b[1;32m-> 1487\u001b[0m w, vt \u001b[38;5;241m=\u001b[39m \u001b[43mgufunc\u001b[49m\u001b[43m(\u001b[49m\u001b[43ma\u001b[49m\u001b[43m,\u001b[49m\u001b[43m \u001b[49m\u001b[43msignature\u001b[49m\u001b[38;5;241;43m=\u001b[39;49m\u001b[43msignature\u001b[49m\u001b[43m,\u001b[49m\u001b[43m \u001b[49m\u001b[43mextobj\u001b[49m\u001b[38;5;241;43m=\u001b[39;49m\u001b[43mextobj\u001b[49m\u001b[43m)\u001b[49m\n\u001b[0;32m   1488\u001b[0m w \u001b[38;5;241m=\u001b[39m w\u001b[38;5;241m.\u001b[39mastype(_realType(result_t), copy\u001b[38;5;241m=\u001b[39m\u001b[38;5;28;01mFalse\u001b[39;00m)\n\u001b[0;32m   1489\u001b[0m vt \u001b[38;5;241m=\u001b[39m vt\u001b[38;5;241m.\u001b[39mastype(result_t, copy\u001b[38;5;241m=\u001b[39m\u001b[38;5;28;01mFalse\u001b[39;00m)\n",
      "\u001b[1;31mMemoryError\u001b[0m: Unable to allocate 5.72 GiB for an array with shape (27718, 27718) and data type float64"
     ]
    }
   ],
   "source": [
    "dim = 80\n",
    "spectral_embedding = compute_spectral_embeddings(medium_graph, dim)"
   ]
  },
  {
   "cell_type": "markdown",
   "metadata": {},
   "source": [
    "We saw earlier that there are a lot of isolated nodes. The following diagram shows us the sizes of all the components. For better visualization purposes we got rid of the 2 largest components. These components had 24392 and 698 nodes."
   ]
  },
  {
   "cell_type": "code",
   "execution_count": 9,
   "metadata": {},
   "outputs": [
    {
     "name": "stdout",
     "output_type": "stream",
     "text": [
      "198\n"
     ]
    },
    {
     "data": {
      "image/png": "[encoded data removed]",
      "text/plain": [
       "<Figure size 640x480 with 1 Axes>"
      ]
     },
     "metadata": {},
     "output_type": "display_data"
    }
   ],
   "source": [
    "component_count = {}\n",
    "maxi = 0\n",
    "for emb in spectral_embeddings:\n",
    "    size = emb.shape[0]\n",
    "    if(size > 697):\n",
    "        continue\n",
    "    maxi = max(maxi, size)\n",
    "    if size not in component_count:\n",
    "        component_count[size] = 1\n",
    "    else:\n",
    "        component_count[size] += 1\n",
    "#print(degree_counts)\n",
    "\n",
    "print(maxi)\n",
    "\n",
    "component_size = list(component_count.keys())\n",
    "counts = list(component_count.values())\n",
    "\n",
    "pyplot.bar(component_size, counts)\n",
    "pyplot.xlabel('Size (Number of nodes in the component)')\n",
    "pyplot.ylabel('Number of components')\n",
    "pyplot.title('Component\\'s sizes')\n",
    "pyplot.show()"
   ]
  },
  {
   "cell_type": "markdown",
   "metadata": {},
   "source": [
    "## 3. Random walks"
   ]
  },
  {
   "cell_type": "markdown",
   "metadata": {},
   "source": [
    "When we create the random walks it is important that we handle the isolated nodes as well because our graph is disconnected. To handle them we will always make them walk back to themselves, this is a good idea here because isolated points are only similar to themselves. "
   ]
  },
  {
   "cell_type": "code",
   "execution_count": 11,
   "metadata": {},
   "outputs": [],
   "source": [
    "import random\n",
    "\n",
    "def random_walks(graph: nx.Graph, num_walks: int, walk_length: int) -> np.ndarray:\n",
    "    length = len(graph.nodes)\n",
    "    result = np.zeros((num_walks*length,walk_length))\n",
    "\n",
    "    for i,node in enumerate(graph.nodes):\n",
    "        for j in range(num_walks):\n",
    "            result[num_walks*i+j,0] = node\n",
    "            current_node = node\n",
    "            for k in range(1, walk_length):\n",
    "                neighbors = list(graph.neighbors(current_node))\n",
    "                if not neighbors:\n",
    "                    result[num_walks*i+j,k] = current_node\n",
    "                    break\n",
    "                current_node = random.choice(neighbors)\n",
    "                result[num_walks*i+j,k] = current_node\n",
    "\n",
    "    return result"
   ]
  },
  {
   "cell_type": "code",
   "execution_count": 12,
   "metadata": {},
   "outputs": [],
   "source": [
    "num_walks = 10\n",
    "walk_length = 20\n",
    "\n",
    "walks = random_walks(medium_graph, num_walks, walk_length)"
   ]
  },
  {
   "cell_type": "code",
   "execution_count": 13,
   "metadata": {},
   "outputs": [
    {
     "name": "stdout",
     "output_type": "stream",
     "text": [
      "[    0. 15788.  3745. 22747. 12413. 19001. 18471. 19472. 12088. 12084.\n",
      "   722.  1696.  4821.  9736. 12088.  8440.  8985.   863.  7336.  2450.]\n",
      "[1.0000e+00 2.5421e+04 1.4045e+04 7.7650e+03 2.7424e+04 1.6843e+04\n",
      " 2.6362e+04 1.5554e+04 1.2242e+04 1.3922e+04 1.0078e+04 1.1049e+04\n",
      " 7.1800e+02 1.2034e+04 6.3150e+03 1.4890e+04 2.6813e+04 9.1790e+03\n",
      " 1.1064e+04 8.4320e+03]\n",
      "[2.0000e+00 2.1455e+04 1.1557e+04 2.1787e+04 2.5509e+04 9.3190e+03\n",
      " 1.0779e+04 2.1824e+04 9.0800e+03 2.4107e+04 1.8565e+04 2.1760e+03\n",
      " 1.0761e+04 1.1350e+03 1.4030e+04 6.7470e+03 4.6960e+03 1.0761e+04\n",
      " 3.6020e+03 1.5679e+04]\n",
      "[3.0000e+00 2.6120e+03 1.3825e+04 6.5620e+03 1.0170e+03 2.5608e+04\n",
      " 2.6382e+04 6.7770e+03 1.9763e+04 1.3599e+04 2.6154e+04 1.3599e+04\n",
      " 1.0145e+04 2.3046e+04 1.9746e+04 1.6890e+03 1.9455e+04 4.9410e+03\n",
      " 3.4170e+03 7.7610e+03]\n",
      "[4.0000e+00 1.1729e+04 2.3726e+04 7.0210e+03 1.1480e+04 2.6923e+04\n",
      " 9.4970e+03 2.6856e+04 3.3670e+03 1.2429e+04 1.3938e+04 2.0229e+04\n",
      " 8.0630e+03 1.4620e+04 6.1300e+03 1.4384e+04 7.8420e+03 6.9500e+02\n",
      " 2.4390e+03 1.8180e+03]\n",
      "[5.0000e+00 8.9800e+02 8.6400e+03 2.5173e+04 1.9802e+04 9.4400e+03\n",
      " 2.0334e+04 6.5570e+03 2.6907e+04 6.1840e+03 2.7477e+04 2.4076e+04\n",
      " 1.2236e+04 1.4759e+04 1.7909e+04 2.5355e+04 1.6142e+04 1.8445e+04\n",
      " 2.6552e+04 8.8550e+03]\n",
      "[6.0000e+00 2.4099e+04 2.0273e+04 1.0135e+04 1.2029e+04 1.2857e+04\n",
      " 1.5677e+04 1.3190e+03 2.6193e+04 1.7421e+04 1.7336e+04 6.3630e+03\n",
      " 1.6090e+03 2.3770e+03 1.7981e+04 3.2840e+03 1.1195e+04 2.6008e+04\n",
      " 1.5750e+03 1.1195e+04]\n",
      "[7.0000e+00 1.1141e+04 1.2500e+03 2.4023e+04 2.0613e+04 1.1840e+03\n",
      " 2.0613e+04 1.7341e+04 1.1541e+04 1.3882e+04 1.9032e+04 5.9230e+03\n",
      " 5.8900e+02 1.3872e+04 9.2590e+03 2.4380e+04 2.4869e+04 3.6020e+03\n",
      " 2.3126e+04 2.1500e+03]\n",
      "[8.0000e+00 2.5464e+04 1.9231e+04 2.7370e+04 9.7710e+03 1.4949e+04\n",
      " 2.5854e+04 6.8050e+03 4.0920e+03 1.8329e+04 1.7277e+04 2.5648e+04\n",
      " 4.0920e+03 3.3240e+03 6.7750e+03 1.0671e+04 2.6887e+04 1.4289e+04\n",
      " 2.1206e+04 2.6508e+04]\n",
      "[9.0000e+00 1.1432e+04 9.8200e+03 2.3421e+04 1.0223e+04 1.2246e+04\n",
      " 1.5375e+04 1.6737e+04 1.2246e+04 2.5073e+04 1.4704e+04 1.1750e+04\n",
      " 1.4712e+04 3.4990e+03 3.0690e+03 1.2267e+04 1.3433e+04 7.4420e+03\n",
      " 3.6300e+02 1.3956e+04]\n"
     ]
    }
   ],
   "source": [
    "for i in range(10):\n",
    "    print(walks[i * 10])"
   ]
  },
  {
   "cell_type": "markdown",
   "metadata": {},
   "source": [
    "Now let's use this function to compute node embeddings. "
   ]
  },
  {
   "cell_type": "code",
   "execution_count": 38,
   "metadata": {},
   "outputs": [],
   "source": [
    "def compute_node_embeddings(graph: nx.Graph, num_walks: int, walk_length: int, embedding_dim: int) -> Word2Vec:\n",
    "    \n",
    "    walks = random_walks(graph, num_walks, walk_length)\n",
    "    \n",
    "    # Convert node IDs to strings (Word2Vec expects strings)\n",
    "    walks = [[str(node) for node in walk] for walk in walks]\n",
    "    \n",
    "    # Train Word2Vec model\n",
    "    model = Word2Vec(\n",
    "        sentences=walks,\n",
    "        vector_size=embedding_dim,\n",
    "        window=5,  # Context window size\n",
    "        min_count=1,  # Minimum frequency for a node to be considered\n",
    "        sg=1,  # Use Skip-Gram (sg=1), CBOW (sg=0)\n",
    "        workers=4,  # Number of parallel threads\n",
    "        epochs=10  # Number of training epochs\n",
    "    )\n",
    "    \n",
    "    return model"
   ]
  },
  {
   "cell_type": "code",
   "execution_count": 41,
   "metadata": {},
   "outputs": [],
   "source": [
    "num_walks = 10\n",
    "walk_length = 20\n",
    "embedding_dim = 100\n",
    "\n",
    "node2vec_model = compute_node_embeddings(subgraph, num_walks, walk_length, embedding_dim)"
   ]
  },
  {
   "cell_type": "markdown",
   "metadata": {},
   "source": [
    "Let's have a look at what a node embedding made from random walks looks like."
   ]
  },
  {
   "cell_type": "code",
   "execution_count": null,
   "metadata": {},
   "outputs": [],
   "source": [
    "node_id = \"0\"  # Node IDs are strings in the Word2Vec model\n",
    "embedding = node2vec_model.wv[node_id]\n",
    "print(f\"Embedding for node {node_id}: {embedding}\")"
   ]
  },
  {
   "cell_type": "markdown",
   "metadata": {},
   "source": [
    "The function for the k-nearest neighbor classifier. We make sure to filter out nodes that are not in our training data. Note how distances are not calculated pairwise, but using the numpy library. This allows for paralellization and speeds up computation by using more CPU cores or GPU acceleration."
   ]
  },
  {
   "cell_type": "code",
   "execution_count": 46,
   "metadata": {},
   "outputs": [],
   "source": [
    "from heapq import nsmallest\n",
    "\n",
    "train_node_ids = set(train_data['node_id'])\n",
    "\n",
    "def k_nearest_neighbors(k, node, embedding):\n",
    "    target_node = embedding[node]\n",
    "    distances = np.linalg.norm(embedding - target_node, axis=1) #\n",
    "    \n",
    "    # Filter out neighbors that are not in the train_set\n",
    "    filtered_distances = [(i,dist) for i,dist in enumerate(distances) if i in train_node_ids]\n",
    "\n",
    "    # Sort distances based on the distance and get the indices of the k smallest distances\n",
    "    closest_neighbors = nsmallest(k, filtered_distances, key=lambda x: x[1])\n",
    "    closest_neighbors = [x[0] for x in closest_neighbors]\n",
    "    labels = train_data[train_data['node_id'].isin(closest_neighbors)]  # Get labels of nearest neighbors\n",
    "    common_label = labels['label'].mode()[0] # get [0] in case of tie in labels\n",
    "    return common_label"
   ]
  },
  {
   "cell_type": "markdown",
   "metadata": {},
   "source": [
    "Let's try to predict the labels of the test nodes using the spectral embedding with k arbitrarily chosen as 5."
   ]
  },
  {
   "cell_type": "code",
   "execution_count": null,
   "metadata": {},
   "outputs": [],
   "source": [
    "k = 20\n",
    "spectral_result = np.zeros(len(test_data), dtype=object)\n",
    "for i,row in enumerate(test_data.itertuples()):\n",
    "    node = row.node_id\n",
    "    prediction = k_nearest_neighbors(k, node, spectral_embedding)\n",
    "    spectral_result[i] = (node, prediction)"
   ]
  },
  {
   "cell_type": "code",
   "execution_count": null,
   "metadata": {},
   "outputs": [],
   "source": [
    "print(spectral_result[:10])"
   ]
  },
  {
   "cell_type": "markdown",
   "metadata": {},
   "source": [
    "And do the same for the random walk embeddings."
   ]
  },
  {
   "cell_type": "code",
   "execution_count": null,
   "metadata": {},
   "outputs": [],
   "source": [
    "k = 20\n",
    "random_walks_result = np.zeros(len(test_data), dtype=object)\n",
    "for i,row in enumerate(test_data.itertuples()):\n",
    "    node = row.node_id\n",
    "    prediction = k_nearest_neighbors(k, node, node2vec_model.wv.vectors) # Get the underling ndarray of the node2vec_model\n",
    "    random_walks_result[i] = (node, prediction)\n"
   ]
  },
  {
   "cell_type": "code",
   "execution_count": null,
   "metadata": {},
   "outputs": [],
   "source": [
    "print(random_walks_result[:10])"
   ]
  },
  {
   "cell_type": "markdown",
   "metadata": {},
   "source": [
    "Now let's analyze the performance of the embeddings."
   ]
  },
  {
   "cell_type": "code",
   "execution_count": null,
   "metadata": {},
   "outputs": [],
   "source": [
    "spectral_correct = sum((list(map(lambda x: x[1], spectral_result)) == test_data['label']))\n",
    "random_walk_correct = sum((list(map(lambda x: x[1], random_walks_result)) == test_data['label']))\n",
    "\n",
    "total = test_data.shape[0]\n",
    "\n",
    "spectral_ratio = round(100*spectral_correct/total,2)\n",
    "random_walk_ratio = round(100*random_walk_correct/total,2)\n",
    "\n",
    "print('Spectral Ratio: ', spectral_ratio,'%', sep='')\n",
    "print('Random Walk Ratio: ', random_walk_ratio,'%', sep='')"
   ]
  }
 ],
 "metadata": {
  "kernelspec": {
   "display_name": "Python 3",
   "language": "python",
   "name": "python3"
  },
  "language_info": {
   "codemirror_mode": {
    "name": "ipython",
    "version": 3
   },
   "file_extension": ".py",
   "mimetype": "text/x-python",
   "name": "python",
   "nbconvert_exporter": "python",
   "pygments_lexer": "ipython3",
   "version": "3.12.6"
  }
 },
 "nbformat": 4,
 "nbformat_minor": 4
}
